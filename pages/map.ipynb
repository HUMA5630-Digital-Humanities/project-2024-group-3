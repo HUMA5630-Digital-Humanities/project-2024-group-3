{
 "cells": [
  {
   "cell_type": "code",
   "execution_count": 1,
   "metadata": {},
   "outputs": [],
   "source": [
    "import streamlit as st\n",
    "import folium\n",
    "import pandas as pd\n",
    "from streamlit_folium import folium_static"
   ]
  },
  {
   "cell_type": "code",
   "execution_count": 2,
   "metadata": {},
   "outputs": [],
   "source": [
    "st.set_page_config(\n",
    "    page_title=\"Map samples\",\n",
    "    page_icon=\"\", \n",
    "    layout=\"centered\",\n",
    "    initial_sidebar_state=\"expanded\",\n",
    ")"
   ]
  },
  {
   "cell_type": "code",
   "execution_count": 3,
   "metadata": {},
   "outputs": [
    {
     "name": "stderr",
     "output_type": "stream",
     "text": [
      "2024-05-03 10:36:15.136 \n",
      "  \u001b[33m\u001b[1mWarning:\u001b[0m to view this Streamlit app on a browser, run it with the following\n",
      "  command:\n",
      "\n",
      "    streamlit run /Users/yutongwu/Library/Python/3.12/lib/python/site-packages/ipykernel_launcher.py [ARGUMENTS]\n"
     ]
    },
    {
     "data": {
      "text/plain": [
       "DeltaGenerator()"
      ]
     },
     "execution_count": 3,
     "metadata": {},
     "output_type": "execute_result"
    }
   ],
   "source": [
    "st.markdown(\"# Map sample 1\")\n",
    "st.markdown(\"using map in mapwarper.net as overlayed map image\")\n",
    "st.markdown(\"please wait 3-5 seconds to load the overlayed historical image\")"
   ]
  },
  {
   "cell_type": "code",
   "execution_count": 4,
   "metadata": {},
   "outputs": [
    {
     "data": {
      "text/plain": [
       "DeltaGenerator()"
      ]
     },
     "execution_count": 4,
     "metadata": {},
     "output_type": "execute_result"
    }
   ],
   "source": [
    "# Create a folium map, with the center of the map when first view/load the map and zoom in level\n",
    "map1 = folium.Map(location=[39.916345, 116.397155], zoom_start=14)\n",
    "\n",
    "# Overlay a historical map\n",
    "tile_url = 'https://mapwarper.net/maps/tile/82140/{z}/{x}/{y}.png'\n",
    "folium.TileLayer(tile_url, attr='MapTile').add_to(map1)\n",
    "\n",
    "# Read the CSV file containing the coordinates and pop-up content\n",
    "df = pd.read_csv('sample-data.csv')\n",
    "\n",
    "# Iterate over the rows of the DataFrame\n",
    "for index, row in df.iterrows():\n",
    "    # Extract the coordinates and pop-up content from each row\n",
    "    lat = row['Latitude']\n",
    "    lon = row['Longitude']\n",
    "    popup = row['PopupContent']\n",
    "    \n",
    "    # Create a folium marker with the coordinates and pop-up content\n",
    "    marker = folium.Marker(location=[lat, lon], popup=popup)\n",
    "    \n",
    "    # Add the marker to the map\n",
    "    marker.add_to(map1)\n",
    "\n",
    "# Display the map in Streamlit\n",
    "folium_static(map1)"
   ]
  },
  {
   "cell_type": "code",
   "execution_count": 5,
   "metadata": {},
   "outputs": [],
   "source": [
    "import streamlit as st\n",
    "from streamlit_folium import folium_static\n",
    "import folium\n",
    "import rasterio\n",
    "import numpy as np\n",
    "import pandas as pd"
   ]
  },
  {
   "cell_type": "code",
   "execution_count": 6,
   "metadata": {},
   "outputs": [],
   "source": [
    "st.set_page_config(\n",
    "    page_title=\"Map samples\",\n",
    "    page_icon=\"\", \n",
    "    layout=\"wide\",\n",
    "    initial_sidebar_state=\"expanded\",\n",
    ")"
   ]
  },
  {
   "cell_type": "code",
   "execution_count": 7,
   "metadata": {},
   "outputs": [
    {
     "data": {
      "text/plain": [
       "DeltaGenerator()"
      ]
     },
     "execution_count": 7,
     "metadata": {},
     "output_type": "execute_result"
    }
   ],
   "source": [
    "st.markdown(\"# Map sample 2\")\n",
    "st.markdown(\"using local image as overlayed map image\")\n",
    "st.markdown(\"Source of map of this sample: https://lbezone.hkust.edu.hk/bib/991013146516503412\")\n"
   ]
  },
  {
   "cell_type": "code",
   "execution_count": 8,
   "metadata": {},
   "outputs": [
    {
     "name": "stderr",
     "output_type": "stream",
     "text": [
      "/Library/Frameworks/Python.framework/Versions/3.12/lib/python3.12/site-packages/rasterio/__init__.py:304: NotGeoreferencedWarning: Dataset has no geotransform, gcps, or rpcs. The identity matrix will be returned.\n",
      "  dataset = DatasetReader(path, driver=driver, sharing=sharing, **kwargs)\n"
     ]
    },
    {
     "data": {
      "text/plain": [
       "<folium.raster_layers.ImageOverlay at 0x14c2ac7a0>"
      ]
     },
     "execution_count": 8,
     "metadata": {},
     "output_type": "execute_result"
    }
   ],
   "source": [
    "\n",
    "# Create a folium map, with the center of the map when first view/load the map and zoom in level\n",
    "map2 = folium.Map(location=[44.59, 120.98], zoom_start=5)\n",
    "\n",
    "# Overlay a historical map\n",
    "overlayMap = \"world6.jpg\" # image path (in this sample, the image is located inside a folder called \"images\" in our project folder)\n",
    "imgSrc = rasterio.open(overlayMap)\n",
    "overlayMapArray = imgSrc.read()\n",
    "\n",
    "img = folium.raster_layers.ImageOverlay(\n",
    "    name=\"historical map\",\n",
    "    image=np.moveaxis(overlayMapArray, 0, -1),\n",
    "    bounds=[(30, 120), (50, 150)],  # position that you want to put the historical map, refresh the webpage to check and refine the number by yourself\n",
    "    opacity=0.7,  # opacity of the overlay map\n",
    "    interactive=True,\n",
    "    cross_origin=False,\n",
    "    zindex=1,\n",
    ")\n",
    "\n",
    "img.add_to(map2)\n"
   ]
  },
  {
   "cell_type": "code",
   "execution_count": 9,
   "metadata": {},
   "outputs": [
    {
     "data": {
      "text/plain": [
       "DeltaGenerator()"
      ]
     },
     "execution_count": 9,
     "metadata": {},
     "output_type": "execute_result"
    }
   ],
   "source": [
    "\n",
    "\n",
    "# Read the CSV file containing the coordinates and pop-up content\n",
    "df = pd.read_csv('sample-data.csv')\n",
    "\n",
    "# Iterate over the rows of the DataFrame\n",
    "for index, row in df.iterrows():\n",
    "    # Extract the coordinates and pop-up content from each row\n",
    "    lat = row['Latitude']\n",
    "    lon = row['Longitude']\n",
    "    popup = row['PopupContent']\n",
    "    \n",
    "    # Create a folium marker with the coordinates and pop-up content\n",
    "    marker = folium.Marker(location=[lat, lon], popup=popup)\n",
    "    \n",
    "    # Add the marker to the map\n",
    "    marker.add_to(map2)\n",
    "\n",
    "# show the map\n",
    "folium_static(map2, width=1500, height=800)\n",
    "\n"
   ]
  }
 ],
 "metadata": {
  "kernelspec": {
   "display_name": "Python 3",
   "language": "python",
   "name": "python3"
  },
  "language_info": {
   "codemirror_mode": {
    "name": "ipython",
    "version": 3
   },
   "file_extension": ".py",
   "mimetype": "text/x-python",
   "name": "python",
   "nbconvert_exporter": "python",
   "pygments_lexer": "ipython3",
   "version": "3.12.2"
  }
 },
 "nbformat": 4,
 "nbformat_minor": 2
}
